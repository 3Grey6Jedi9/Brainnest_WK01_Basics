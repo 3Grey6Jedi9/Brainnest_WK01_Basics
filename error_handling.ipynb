{
 "cells": [
  {
   "attachments": {},
   "cell_type": "markdown",
   "metadata": {
    "pycharm": {
     "name": "#%% md\n"
    }
   },
   "source": [
    "1. Write a function that takes a list of integers as an argument, and returns the sum of the integers. Use a try-except block to catch any ValueError exceptions that may be raised when attempting to convert a string to an integer."
   ]
  },
  {
   "cell_type": "code",
   "execution_count": 2,
   "metadata": {
    "pycharm": {
     "name": "#%%\n"
    }
   },
   "outputs": [
    {
     "name": "stdout",
     "output_type": "stream",
     "text": [
      "6\n"
     ]
    }
   ],
   "source": [
    "def function(L):\n",
    "    try:\n",
    "        for i in L:\n",
    "            if (i % 1) == 0:\n",
    "                continue\n",
    "            else:\n",
    "                raise ValueError('Your list must only be composed by integers please')\n",
    "        return sum(L)\n",
    "    except TypeError:\n",
    "        return 'Please your list must be composed by integers'\n",
    "\n",
    "\n",
    "try:\n",
    "    print(function([1,2,3]))\n",
    "except ValueError as err:\n",
    "    print(f'{err}')"
   ]
  },
  {
   "attachments": {},
   "cell_type": "markdown",
   "metadata": {
    "pycharm": {
     "name": "#%% md\n"
    }
   },
   "source": [
    "2. Write a function that takes a filename as an argument, and attempts to open the file. Use a try-except block to catch any FileNotFoundError exceptions that may be raised when attempting to open the file. If the file is successfully opened, the function should return the contents of the file."
   ]
  },
  {
   "cell_type": "code",
   "execution_count": 4,
   "metadata": {
    "pycharm": {
     "name": "#%%\n"
    }
   },
   "outputs": [
    {
     "name": "stdout",
     "output_type": "stream",
     "text": [
      "The file was not found, please verify that you entered the right path\n"
     ]
    }
   ],
   "source": [
    "def func(filename):\n",
    "    with open(filename, \"r\") as file:\n",
    "        return file.read()\n",
    "\n",
    "\n",
    "try:\n",
    "    print(func(\"apple\"))\n",
    "except FileNotFoundError:\n",
    "    print('The file was not found, please verify that you entered the right path')"
   ]
  },
  {
   "attachments": {},
   "cell_type": "markdown",
   "metadata": {
    "pycharm": {
     "name": "#%% md\n"
    }
   },
   "source": [
    "3. Write a function that takes a list of strings as an argument, and returns a new list containing only the strings that can be successfully converted to a float. Use a try-except block to catch any ValueError exceptions that may be raised when attempting to convert a string to a float."
   ]
  },
  {
   "cell_type": "code",
   "execution_count": 5,
   "metadata": {
    "pycharm": {
     "name": "#%%\n"
    }
   },
   "outputs": [],
   "source": [
    "def func1(strlist):\n",
    "    j = 0\n",
    "    new = []\n",
    "    for i in strlist:\n",
    "        try:\n",
    "            new.append(float(i))\n",
    "        except ValueError:\n",
    "            print(f'Impossible to convert the value \"{i}\" with the index {j} into a float')\n",
    "            j +=1\n",
    "            continue\n",
    "        else:\n",
    "            j +=1\n",
    "    return new"
   ]
  },
  {
   "attachments": {},
   "cell_type": "markdown",
   "metadata": {
    "pycharm": {
     "name": "#%% md\n"
    }
   },
   "source": [
    "4. Write a function that takes a list of dictionaries as an argument, and returns the value of a specified key from each dictionary. Use a try-except block to catch any KeyError exceptions that may be raised when attempting to access a key that does not exist in a dictionary."
   ]
  },
  {
   "cell_type": "code",
   "execution_count": 7,
   "metadata": {
    "pycharm": {
     "name": "#%%\n"
    }
   },
   "outputs": [
    {
     "name": "stdout",
     "output_type": "stream",
     "text": [
      "You must enter a key that exists in all the dictionaries\n"
     ]
    }
   ],
   "source": [
    "def func2(diclist):\n",
    "    val = []\n",
    "    key = input('Tell me the dictionary key you want check')\n",
    "    for dict in diclist:\n",
    "        val.append(dict[key])\n",
    "    return val\n",
    "\n",
    "\n",
    "dict1 = {'a':1,'b':3, 'c':4}\n",
    "\n",
    "dict2 = {'d':3,'a':1,'c':3}\n",
    "\n",
    "dict3 = {'a':90,'x':90,'b':2}\n",
    "\n",
    "\n",
    "\n",
    "try:\n",
    "    print(func2([dict1, dict2, dict3]))\n",
    "except KeyError:\n",
    "    print('You must enter a key that exists in all the dictionaries')\n"
   ]
  },
  {
   "attachments": {},
   "cell_type": "markdown",
   "metadata": {
    "pycharm": {
     "name": "#%% md\n"
    }
   },
   "source": [
    "5. Write a function that takes a list of integers as an argument, and returns the largest integer in the list. Use a try-except block to catch any ValueError exceptions that may be raised when attempting to compare elements that are not integers."
   ]
  },
  {
   "cell_type": "code",
   "execution_count": null,
   "metadata": {
    "pycharm": {
     "name": "#%%\n"
    }
   },
   "outputs": [],
   "source": [
    "def func3(intlist):\n",
    "    try:\n",
    "        for n in intlist:\n",
    "            if type(n) is not int:\n",
    "                raise TypeError('Only integers please')\n",
    "    except TypeError as err:\n",
    "        print(f'{err}')\n",
    "    else:\n",
    "        return max(intlist)"
   ]
  }
 ],
 "metadata": {
  "kernelspec": {
   "display_name": "Python 3",
   "language": "python",
   "name": "python3"
  },
  "language_info": {
   "name": "python",
   "version": "3.10.9"
  },
  "orig_nbformat": 4,
  "vscode": {
   "interpreter": {
    "hash": "f7a5be651532581cb44625d52e18aa1d390cab54bc6b51099d8c30bea9b68219"
   }
  }
 },
 "nbformat": 4,
 "nbformat_minor": 2
}