{
 "cells": [
  {
   "attachments": {},
   "cell_type": "markdown",
   "metadata": {
    "pycharm": {
     "name": "#%% md\n"
    }
   },
   "source": [
    "1. Write a program that prompts the user for a string and checks whether the string is a palindrome (i.e., the string reads the same forward and backward)."
   ]
  },
  {
   "cell_type": "code",
   "execution_count": 2,
   "metadata": {
    "pycharm": {
     "name": "#%%\n"
    }
   },
   "outputs": [
    {
     "name": "stdout",
     "output_type": "stream",
     "text": [
      "Oh no that is not a palindrome\n"
     ]
    }
   ],
   "source": [
    "palindrome = input(\"Tell me a palindrome please: \")\n",
    "right = []\n",
    "left = []\n",
    "for w in palindrome:\n",
    "    left.append(w)\n",
    "for w in reversed(palindrome):\n",
    "    right.append(w)\n",
    "if right == left:\n",
    "    print('Yes!, that is what I ask for')\n",
    "else:\n",
    "    print('Oh no that is not a palindrome')"
   ]
  },
  {
   "attachments": {},
   "cell_type": "markdown",
   "metadata": {
    "pycharm": {
     "name": "#%% md\n"
    }
   },
   "source": [
    "2. Write a program that takes in a list of integers and returns the sum of all even numbers in the list."
   ]
  },
  {
   "cell_type": "code",
   "execution_count": 6,
   "metadata": {
    "pycharm": {
     "name": "#%%\n"
    }
   },
   "outputs": [
    {
     "ename": "ValueError",
     "evalue": "invalid literal for int() with base 10: ''",
     "output_type": "error",
     "traceback": [
      "\u001B[0;31m---------------------------------------------------------------------------\u001B[0m",
      "\u001B[0;31mValueError\u001B[0m                                Traceback (most recent call last)",
      "\u001B[0;32m/var/folders/kb/kcj4qds973x45cfw4mfpn7w00000gn/T/ipykernel_4995/358875110.py\u001B[0m in \u001B[0;36m<module>\u001B[0;34m\u001B[0m\n\u001B[1;32m      3\u001B[0m \u001B[0mprogram\u001B[0m \u001B[0;34m=\u001B[0m \u001B[0;32mTrue\u001B[0m\u001B[0;34m\u001B[0m\u001B[0;34m\u001B[0m\u001B[0m\n\u001B[1;32m      4\u001B[0m \u001B[0;32mwhile\u001B[0m \u001B[0mprogram\u001B[0m\u001B[0;34m:\u001B[0m\u001B[0;34m\u001B[0m\u001B[0;34m\u001B[0m\u001B[0m\n\u001B[0;32m----> 5\u001B[0;31m     \u001B[0mchoice\u001B[0m \u001B[0;34m=\u001B[0m \u001B[0mint\u001B[0m\u001B[0;34m(\u001B[0m\u001B[0minput\u001B[0m\u001B[0;34m(\u001B[0m\u001B[0;34m'Enter a element of the list please'\u001B[0m\u001B[0;34m)\u001B[0m\u001B[0;34m)\u001B[0m\u001B[0;34m\u001B[0m\u001B[0;34m\u001B[0m\u001B[0m\n\u001B[0m\u001B[1;32m      6\u001B[0m     \u001B[0mintlist\u001B[0m\u001B[0;34m.\u001B[0m\u001B[0mappend\u001B[0m\u001B[0;34m(\u001B[0m\u001B[0mchoice\u001B[0m\u001B[0;34m)\u001B[0m\u001B[0;34m\u001B[0m\u001B[0;34m\u001B[0m\u001B[0m\n\u001B[1;32m      7\u001B[0m     \u001B[0mcont\u001B[0m \u001B[0;34m=\u001B[0m \u001B[0minput\u001B[0m\u001B[0;34m(\u001B[0m\u001B[0;34m'Enter \"N\" if you are done with your list. Otherwise press any other key to continue'\u001B[0m\u001B[0;34m)\u001B[0m\u001B[0;34m.\u001B[0m\u001B[0mlower\u001B[0m\u001B[0;34m(\u001B[0m\u001B[0;34m)\u001B[0m\u001B[0;34m\u001B[0m\u001B[0;34m\u001B[0m\u001B[0m\n",
      "\u001B[0;31mValueError\u001B[0m: invalid literal for int() with base 10: ''"
     ]
    }
   ],
   "source": [
    "intlist = []\n",
    "total = []\n",
    "program = True\n",
    "while program:\n",
    "    choice = int(input('Enter a element of the list please'))\n",
    "    intlist.append(choice)\n",
    "    cont = input('Enter \"N\" if you are done with your list. Otherwise press any other key to continue').lower()\n",
    "    if cont == 'n':\n",
    "        program = False\n",
    "for i in intlist:\n",
    "    if (i % 2) == 0:\n",
    "        total.append(i)\n",
    "    else:\n",
    "        continue\n",
    "\n",
    "print(sum(total), intlist)\n",
    "\n"
   ]
  },
  {
   "attachments": {},
   "cell_type": "markdown",
   "metadata": {
    "pycharm": {
     "name": "#%% md\n"
    }
   },
   "source": [
    "3. Write a program that prompts the user for their age and checks whether they are old enough to vote (i.e., 18 years old or older)."
   ]
  },
  {
   "cell_type": "code",
   "execution_count": 7,
   "metadata": {
    "pycharm": {
     "name": "#%%\n"
    }
   },
   "outputs": [
    {
     "name": "stdout",
     "output_type": "stream",
     "text": [
      "I am sorry sweetheart you must be 18 so you can vote\n"
     ]
    }
   ],
   "source": [
    "age = int(input('Tell me your age sweetheart: '))\n",
    "if age >= 18:\n",
    "    print('You can vote')\n",
    "else:\n",
    "    print('I am sorry sweetheart you must be 18 so you can vote')"
   ]
  },
  {
   "attachments": {},
   "cell_type": "markdown",
   "metadata": {
    "pycharm": {
     "name": "#%% md\n"
    }
   },
   "source": [
    "4. Write a program that takes in a list of integers and returns the largest number in the list that is also divisible by 3."
   ]
  },
  {
   "cell_type": "code",
   "execution_count": 8,
   "metadata": {
    "pycharm": {
     "name": "#%%\n"
    }
   },
   "outputs": [
    {
     "name": "stdout",
     "output_type": "stream",
     "text": [
      "434343 [1, 3, 6, 9, 99, 44, 5, 434343]\n"
     ]
    }
   ],
   "source": [
    "intlist = []\n",
    "largest = []\n",
    "program = True\n",
    "while program:\n",
    "    choice = int(input('Enter a element of the list please'))\n",
    "    intlist.append(choice)\n",
    "    cont = input('Enter \"N\" if you are done with your list. Otherwise press any other key to continue').lower()\n",
    "    if cont == 'n':\n",
    "        program = False\n",
    "for i in intlist:\n",
    "    if (i % 3) == 0:\n",
    "        largest.append(i)\n",
    "    else:\n",
    "        continue\n",
    "\n",
    "print(max(largest), intlist)"
   ]
  },
  {
   "attachments": {},
   "cell_type": "markdown",
   "metadata": {
    "pycharm": {
     "name": "#%% md\n"
    }
   },
   "source": [
    "5. Write a program that prompts the user for a number and checks whether the number is a prime number (i.e., only divisible by 1 and itself)."
   ]
  },
  {
   "cell_type": "code",
   "execution_count": 19,
   "metadata": {
    "pycharm": {
     "name": "#%%\n"
    }
   },
   "outputs": [
    {
     "name": "stdout",
     "output_type": "stream",
     "text": [
      "The number you gave me is not a prime number\n"
     ]
    }
   ],
   "source": [
    "number = int(input('Tell me a numer and I will tell you if it is a prime number or not: '))\n",
    "div = [2,3,5,7]\n",
    "e = ''\n",
    "divisible = False\n",
    "\n",
    "for n in div:\n",
    "    if number % n == 0 and number not in div:\n",
    "        divisible = True\n",
    "    else:\n",
    "        continue\n",
    "\n",
    "if number not in div and divisible == True:\n",
    "    print('The number you gave me is not a prime number')\n",
    "\n",
    "if divisible == False :\n",
    "    print('This is a prime number')"
   ]
  },
  {
   "cell_type": "markdown",
   "source": [
    "The prime factorization theorem: Every positive integer greater than 1 can be expressed as a unique product of prime numbers. The primes less than or equal to 7 are 2, 3, 5 and 7. Any non-prime number greater than 1 can be expressed as a product of primes, one or more of which must be among these four primes.\n",
    "\n",
    "Therefore, any non-prime number greater than 1 must be divisible by at least one of the primes 2, 3, 5 or 7. There are numbers that are not divisible by one or more of these primes, but they are not greater than 1."
   ],
   "metadata": {
    "collapsed": false,
    "pycharm": {
     "name": "#%% md\n"
    }
   }
  }
 ],
 "metadata": {
  "kernelspec": {
   "display_name": "Python 3",
   "language": "python",
   "name": "python3"
  },
  "language_info": {
   "name": "python",
   "version": "3.10.10"
  },
  "orig_nbformat": 4,
  "vscode": {
   "interpreter": {
    "hash": "f7a5be651532581cb44625d52e18aa1d390cab54bc6b51099d8c30bea9b68219"
   }
  }
 },
 "nbformat": 4,
 "nbformat_minor": 2
}